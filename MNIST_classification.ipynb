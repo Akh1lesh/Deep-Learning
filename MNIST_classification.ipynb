{
  "nbformat": 4,
  "nbformat_minor": 0,
  "metadata": {
    "colab": {
      "provenance": []
    },
    "kernelspec": {
      "name": "python3",
      "display_name": "Python 3"
    },
    "language_info": {
      "name": "python"
    }
  },
  "cells": [
    {
      "cell_type": "code",
      "execution_count": 28,
      "metadata": {
        "id": "mwoPrslX_v_m"
      },
      "outputs": [],
      "source": [
        "import tensorflow\n",
        "from tensorflow import keras\n",
        "from tensorflow.keras import Sequential\n",
        "from tensorflow.keras.layers import Dense, Flatten"
      ]
    },
    {
      "cell_type": "code",
      "source": [
        "(X_train, y_train), (X_test, y_test) = keras.datasets.mnist.load_data()"
      ],
      "metadata": {
        "id": "3QL-ZOOGACHW"
      },
      "execution_count": 29,
      "outputs": []
    },
    {
      "cell_type": "code",
      "source": [
        "X_train.shape"
      ],
      "metadata": {
        "colab": {
          "base_uri": "https://localhost:8080/"
        },
        "id": "6LOLXAcOATKl",
        "outputId": "b0fa1d8d-c882-4787-e60e-1604e369b744"
      },
      "execution_count": 30,
      "outputs": [
        {
          "output_type": "execute_result",
          "data": {
            "text/plain": [
              "(60000, 28, 28)"
            ]
          },
          "metadata": {},
          "execution_count": 30
        }
      ]
    },
    {
      "cell_type": "code",
      "source": [
        "import matplotlib.pyplot as plt\n",
        "plt.imshow(X_train[2])"
      ],
      "metadata": {
        "colab": {
          "base_uri": "https://localhost:8080/",
          "height": 447
        },
        "id": "dY-7-KikAVju",
        "outputId": "2d14326e-1a70-43ee-af53-6e656af44fa9"
      },
      "execution_count": 31,
      "outputs": [
        {
          "output_type": "execute_result",
          "data": {
            "text/plain": [
              "<matplotlib.image.AxesImage at 0x7fd9d2b2cd00>"
            ]
          },
          "metadata": {},
          "execution_count": 31
        },
        {
          "output_type": "display_data",
          "data": {
            "text/plain": [
              "<Figure size 640x480 with 1 Axes>"
            ],
            "image/png": "[encoded data removed]"
          },
          "metadata": {}
        }
      ]
    },
    {
      "cell_type": "code",
      "source": [
        "X_train = X_train/255\n",
        "X_test = X_test/255"
      ],
      "metadata": {
        "id": "Wgyt02vdA2Dt"
      },
      "execution_count": 32,
      "outputs": []
    },
    {
      "cell_type": "code",
      "source": [
        "model = Sequential()\n",
        "\n",
        "model.add(Flatten(input_shape = (28, 28)))\n",
        "model.add(Dense(128, activation = 'relu'))\n",
        "model.add(Dense(32, activation = 'relu'))\n",
        "model.add(Dense(10, activation = 'softmax'))"
      ],
      "metadata": {
        "id": "OMA7Y1SQBMxa"
      },
      "execution_count": 33,
      "outputs": []
    },
    {
      "cell_type": "code",
      "source": [
        "model.summary()"
      ],
      "metadata": {
        "colab": {
          "base_uri": "https://localhost:8080/"
        },
        "id": "jTyfn3X_Bx7l",
        "outputId": "aead6825-52e5-4ba3-e38a-83a61760d1ba"
      },
      "execution_count": 34,
      "outputs": [
        {
          "output_type": "stream",
          "name": "stdout",
          "text": [
            "Model: \"sequential_2\"\n",
            "_________________________________________________________________\n",
            " Layer (type)                Output Shape              Param #   \n",
            "=================================================================\n",
            " flatten_2 (Flatten)         (None, 784)               0         \n",
            "                                                                 \n",
            " dense_5 (Dense)             (None, 128)               100480    \n",
            "                                                                 \n",
            " dense_6 (Dense)             (None, 32)                4128      \n",
            "                                                                 \n",
            " dense_7 (Dense)             (None, 10)                330       \n",
            "                                                                 \n",
            "=================================================================\n",
            "Total params: 104938 (409.91 KB)\n",
            "Trainable params: 104938 (409.91 KB)\n",
            "Non-trainable params: 0 (0.00 Byte)\n",
            "_________________________________________________________________\n"
          ]
        }
      ]
    },
    {
      "cell_type": "code",
      "source": [
        "model.compile(loss = 'sparse_categorical_crossentropy', optimizer = 'adam', metrics = ['accuracy'])"
      ],
      "metadata": {
        "id": "LNOq3ngKB0j3"
      },
      "execution_count": 35,
      "outputs": []
    },
    {
      "cell_type": "code",
      "source": [
        "history = model.fit(X_train, y_train, epochs = 25, validation_split = 0.2)"
      ],
      "metadata": {
        "colab": {
          "base_uri": "https://localhost:8080/"
        },
        "id": "QWK4dbhTCSb0",
        "outputId": "a8bbdcb2-20d4-4ba4-b5aa-385a02dfecd5"
      },
      "execution_count": 36,
      "outputs": [
        {
          "output_type": "stream",
          "name": "stdout",
          "text": [
            "Epoch 1/25\n",
            "1500/1500 [==============================] - 4s 3ms/step - loss: 0.2790 - accuracy: 0.9193 - val_loss: 0.1424 - val_accuracy: 0.9571\n",
            "Epoch 2/25\n",
            "1500/1500 [==============================] - 4s 3ms/step - loss: 0.1238 - accuracy: 0.9631 - val_loss: 0.1223 - val_accuracy: 0.9647\n",
            "Epoch 3/25\n",
            "1500/1500 [==============================] - 4s 3ms/step - loss: 0.0869 - accuracy: 0.9736 - val_loss: 0.1060 - val_accuracy: 0.9683\n",
            "Epoch 4/25\n",
            "1500/1500 [==============================] - 4s 2ms/step - loss: 0.0653 - accuracy: 0.9789 - val_loss: 0.1040 - val_accuracy: 0.9694\n",
            "Epoch 5/25\n",
            "1500/1500 [==============================] - 4s 2ms/step - loss: 0.0504 - accuracy: 0.9842 - val_loss: 0.1046 - val_accuracy: 0.9689\n",
            "Epoch 6/25\n",
            "1500/1500 [==============================] - 4s 3ms/step - loss: 0.0389 - accuracy: 0.9872 - val_loss: 0.0930 - val_accuracy: 0.9746\n",
            "Epoch 7/25\n",
            "1500/1500 [==============================] - 4s 2ms/step - loss: 0.0318 - accuracy: 0.9899 - val_loss: 0.1099 - val_accuracy: 0.9692\n",
            "Epoch 8/25\n",
            "1500/1500 [==============================] - 4s 3ms/step - loss: 0.0267 - accuracy: 0.9912 - val_loss: 0.0991 - val_accuracy: 0.9747\n",
            "Epoch 9/25\n",
            "1500/1500 [==============================] - 4s 3ms/step - loss: 0.0219 - accuracy: 0.9926 - val_loss: 0.1244 - val_accuracy: 0.9707\n",
            "Epoch 10/25\n",
            "1500/1500 [==============================] - 4s 2ms/step - loss: 0.0191 - accuracy: 0.9936 - val_loss: 0.1180 - val_accuracy: 0.9715\n",
            "Epoch 11/25\n",
            "1500/1500 [==============================] - 4s 2ms/step - loss: 0.0188 - accuracy: 0.9939 - val_loss: 0.1083 - val_accuracy: 0.9762\n",
            "Epoch 12/25\n",
            "1500/1500 [==============================] - 4s 3ms/step - loss: 0.0139 - accuracy: 0.9952 - val_loss: 0.1178 - val_accuracy: 0.9745\n",
            "Epoch 13/25\n",
            "1500/1500 [==============================] - 4s 3ms/step - loss: 0.0138 - accuracy: 0.9954 - val_loss: 0.1494 - val_accuracy: 0.9701\n",
            "Epoch 14/25\n",
            "1500/1500 [==============================] - 4s 3ms/step - loss: 0.0134 - accuracy: 0.9954 - val_loss: 0.1199 - val_accuracy: 0.9766\n",
            "Epoch 15/25\n",
            "1500/1500 [==============================] - 4s 3ms/step - loss: 0.0112 - accuracy: 0.9962 - val_loss: 0.1380 - val_accuracy: 0.9732\n",
            "Epoch 16/25\n",
            "1500/1500 [==============================] - 4s 2ms/step - loss: 0.0088 - accuracy: 0.9970 - val_loss: 0.1315 - val_accuracy: 0.9755\n",
            "Epoch 17/25\n",
            "1500/1500 [==============================] - 4s 2ms/step - loss: 0.0121 - accuracy: 0.9960 - val_loss: 0.1470 - val_accuracy: 0.9735\n",
            "Epoch 18/25\n",
            "1500/1500 [==============================] - 5s 4ms/step - loss: 0.0098 - accuracy: 0.9970 - val_loss: 0.1321 - val_accuracy: 0.9759\n",
            "Epoch 19/25\n",
            "1500/1500 [==============================] - 4s 3ms/step - loss: 0.0088 - accuracy: 0.9972 - val_loss: 0.1315 - val_accuracy: 0.9750\n",
            "Epoch 20/25\n",
            "1500/1500 [==============================] - 4s 3ms/step - loss: 0.0094 - accuracy: 0.9970 - val_loss: 0.1457 - val_accuracy: 0.9748\n",
            "Epoch 21/25\n",
            "1500/1500 [==============================] - 4s 3ms/step - loss: 0.0091 - accuracy: 0.9973 - val_loss: 0.1580 - val_accuracy: 0.9737\n",
            "Epoch 22/25\n",
            "1500/1500 [==============================] - 4s 3ms/step - loss: 0.0108 - accuracy: 0.9964 - val_loss: 0.1331 - val_accuracy: 0.9784\n",
            "Epoch 23/25\n",
            "1500/1500 [==============================] - 4s 3ms/step - loss: 0.0060 - accuracy: 0.9981 - val_loss: 0.1703 - val_accuracy: 0.9750\n",
            "Epoch 24/25\n",
            "1500/1500 [==============================] - 4s 2ms/step - loss: 0.0071 - accuracy: 0.9975 - val_loss: 0.1371 - val_accuracy: 0.9780\n",
            "Epoch 25/25\n",
            "1500/1500 [==============================] - 4s 3ms/step - loss: 0.0094 - accuracy: 0.9968 - val_loss: 0.1481 - val_accuracy: 0.9760\n"
          ]
        }
      ]
    },
    {
      "cell_type": "code",
      "source": [
        "y_prob = model.predict(X_test)"
      ],
      "metadata": {
        "colab": {
          "base_uri": "https://localhost:8080/"
        },
        "id": "HHEyASHxCY4s",
        "outputId": "cf2ae4e4-fe1c-4cc5-d3ce-c617cebf50d5"
      },
      "execution_count": 37,
      "outputs": [
        {
          "output_type": "stream",
          "name": "stdout",
          "text": [
            "313/313 [==============================] - 0s 1ms/step\n"
          ]
        }
      ]
    },
    {
      "cell_type": "code",
      "source": [
        "y_pred = y_prob.argmax(axis = 1)"
      ],
      "metadata": {
        "id": "eNKNqorkCodx"
      },
      "execution_count": 38,
      "outputs": []
    },
    {
      "cell_type": "code",
      "source": [
        "from sklearn.metrics import accuracy_score\n",
        "accuracy_score(y_test, y_pred)"
      ],
      "metadata": {
        "colab": {
          "base_uri": "https://localhost:8080/"
        },
        "id": "imCA7pPDCvQ3",
        "outputId": "d1968092-a603-4bc6-9e4d-6871031a5e45"
      },
      "execution_count": 39,
      "outputs": [
        {
          "output_type": "execute_result",
          "data": {
            "text/plain": [
              "0.9767"
            ]
          },
          "metadata": {},
          "execution_count": 39
        }
      ]
    },
    {
      "cell_type": "code",
      "source": [
        "plt.plot(history.history['loss'])\n",
        "plt.plot(history.history['val_loss'])"
      ],
      "metadata": {
        "colab": {
          "base_uri": "https://localhost:8080/",
          "height": 447
        },
        "id": "FyvqILZMC4lw",
        "outputId": "1febf8e7-4fb0-498b-fabd-d8b6b00e205d"
      },
      "execution_count": 40,
      "outputs": [
        {
          "output_type": "execute_result",
          "data": {
            "text/plain": [
              "[<matplotlib.lines.Line2D at 0x7fd9d0555de0>]"
            ]
          },
          "metadata": {},
          "execution_count": 40
        },
        {
          "output_type": "display_data",
          "data": {
            "text/plain": [
              "<Figure size 640x480 with 1 Axes>"
            ],
            "image/png": "[encoded data removed]"
          },
          "metadata": {}
        }
      ]
    },
    {
      "cell_type": "code",
      "source": [
        "plt.plot(history.history['accuracy'])\n",
        "plt.plot(history.history['val_accuracy'])"
      ],
      "metadata": {
        "colab": {
          "base_uri": "https://localhost:8080/",
          "height": 447
        },
        "id": "DemVDArMD8kG",
        "outputId": "d9fdfe85-4927-4136-fd15-4ec987f2017e"
      },
      "execution_count": 41,
      "outputs": [
        {
          "output_type": "execute_result",
          "data": {
            "text/plain": [
              "[<matplotlib.lines.Line2D at 0x7fd9d05c9750>]"
            ]
          },
          "metadata": {},
          "execution_count": 41
        },
        {
          "output_type": "display_data",
          "data": {
            "text/plain": [
              "<Figure size 640x480 with 1 Axes>"
            ],
            "image/png": "[encoded data removed]"
          },
          "metadata": {}
        }
      ]
    },
    {
      "cell_type": "code",
      "source": [
        "model.predict(X_test[0].reshape(1, 28, 28)).argmax(axis = 1)"
      ],
      "metadata": {
        "colab": {
          "base_uri": "https://localhost:8080/"
        },
        "id": "HWrMMI05EKzi",
        "outputId": "30d6882a-6458-4025-b913-1415847f98a7"
      },
      "execution_count": 43,
      "outputs": [
        {
          "output_type": "stream",
          "name": "stdout",
          "text": [
            "1/1 [==============================] - 0s 78ms/step\n"
          ]
        },
        {
          "output_type": "execute_result",
          "data": {
            "text/plain": [
              "array([7])"
            ]
          },
          "metadata": {},
          "execution_count": 43
        }
      ]
    },
    {
      "cell_type": "code",
      "source": [],
      "metadata": {
        "id": "pCnPImO7FZko"
      },
      "execution_count": null,
      "outputs": []
    }
  ]
}